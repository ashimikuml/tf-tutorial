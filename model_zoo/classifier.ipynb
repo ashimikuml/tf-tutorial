{
 "cells": [
  {
   "cell_type": "code",
   "execution_count": null,
   "metadata": {},
   "outputs": [],
   "source": [
    "from __future__ import absolute_import, division, print_function, unicode_literals\n",
    "import matplotlib.pylab as plt\n",
    "import tensorflow as tf\n",
    "# tf.enable_eager_execution()\n",
    "import tensorflow_hub as hub\n",
    "from tensorflow.keras import layers\n",
    "import numpy as np\n",
    "import PIL.Image as Image\n",
    "import time"
   ]
  },
  {
   "cell_type": "markdown",
   "metadata": {},
   "source": [
    "### 学習済みモデルの準備\n",
    "https://tfhub.dev/google/tf2-preview/mobilenet_v2/classification/2"
   ]
  },
  {
   "cell_type": "code",
   "execution_count": null,
   "metadata": {},
   "outputs": [],
   "source": [
    "classifier_url =\"https://tfhub.dev/google/tf2-preview/mobilenet_v2/classification/2\" #@param {type:\"string\"}\n",
    "IMAGE_SHAPE = (224, 224)\n",
    "\n",
    "classifier = tf.keras.Sequential([\n",
    "    hub.KerasLayer(classifier_url, input_shape=IMAGE_SHAPE+(3,))\n",
    "])"
   ]
  },
  {
   "cell_type": "markdown",
   "metadata": {},
   "source": [
    "### 入力画像の準備\n",
    "For this module, the size of the input image is fixed to height x width = 224 x 224 pixels. The input images are expected to have 3 RGB color values in the range [0,1], following the common image input conventions (analogously to TF 1.x)."
   ]
  },
  {
   "cell_type": "code",
   "execution_count": null,
   "metadata": {},
   "outputs": [],
   "source": [
    "img_url = 'https://farm1.static.flickr.com/184/487161092_4c72f4c17a.jpg'\n",
    "img_path = tf.keras.utils.get_file('cat.jpg', img_url, cache_dir='./')  # default ~/.keras\n",
    "print(img_path)\n",
    "img = Image.open(img_path)  # RGB\n",
    "img"
   ]
  },
  {
   "cell_type": "code",
   "execution_count": null,
   "metadata": {},
   "outputs": [],
   "source": [
    "IMAGE_SHAPE = (224, 224)\n",
    "img = img.resize(IMAGE_SHAPE)\n",
    "img = np.asarray(img) / 255.0\n",
    "img = img[np.newaxis, ...]\n",
    "img.shape"
   ]
  },
  {
   "cell_type": "markdown",
   "metadata": {},
   "source": [
    "### 実行"
   ]
  },
  {
   "cell_type": "code",
   "execution_count": null,
   "metadata": {},
   "outputs": [],
   "source": [
    "start = time.time()\n",
    "result = classifier.predict(img)\n",
    "elp = time.time() - start\n",
    "print(elp)\n",
    "(result.shape, result)"
   ]
  },
  {
   "cell_type": "markdown",
   "metadata": {},
   "source": [
    "上位10件を表示"
   ]
  },
  {
   "cell_type": "code",
   "execution_count": null,
   "metadata": {},
   "outputs": [],
   "source": [
    "labels_path = tf.keras.utils.get_file('ImageNetLabels.txt','https://storage.googleapis.com/download.tensorflow.org/data/ImageNetLabels.txt', cache_dir='./')\n",
    "imagenet_labels = np.array(open(labels_path).read().splitlines())"
   ]
  },
  {
   "cell_type": "code",
   "execution_count": null,
   "metadata": {},
   "outputs": [],
   "source": [
    "def softmax(logits):\n",
    "    exp = np.exp(logits)\n",
    "    return exp / np.sum(exp)"
   ]
  },
  {
   "cell_type": "code",
   "execution_count": null,
   "metadata": {},
   "outputs": [],
   "source": [
    "scores = softmax(result[0])\n",
    "order = np.argsort(scores)[::-1]\n",
    "for i in range(10):\n",
    "    idx = order[i]\n",
    "    print('%2d\\t%s\\t%.2f' % (i, imagenet_labels[idx], scores[idx]))"
   ]
  },
  {
   "cell_type": "markdown",
   "metadata": {},
   "source": [
    "### 別のモデル\n",
    "https://tfhub.dev/google/imagenet/resnet_v2_50/classification/3"
   ]
  },
  {
   "cell_type": "code",
   "execution_count": null,
   "metadata": {},
   "outputs": [],
   "source": [
    "module = hub.Module('https://tfhub.dev/google/imagenet/resnet_v2_50/classification/3')\n",
    "start = time.time()\n",
    "logits = module(img)\n",
    "elp = time.time() - start\n",
    "print(elp)"
   ]
  },
  {
   "cell_type": "code",
   "execution_count": null,
   "metadata": {},
   "outputs": [],
   "source": [
    "print(type(logits))\n",
    "# tf.tensor to numpy\n",
    "with tf.Session() as sess:\n",
    "    sess.run(tf.global_variables_initializer())\n",
    "    logits_arr = logits.eval()\n",
    "scores = softmax(logits_arr[0])\n",
    "order = np.argsort(scores)[::-1]\n",
    "for i in range(10):\n",
    "    idx = order[i]\n",
    "    print('%2d\\t%s\\t%.2f' % (i, imagenet_labels[idx], scores[idx]))"
   ]
  },
  {
   "cell_type": "code",
   "execution_count": null,
   "metadata": {},
   "outputs": [],
   "source": []
  }
 ],
 "metadata": {
  "kernelspec": {
   "display_name": "Python 3",
   "language": "python",
   "name": "python3"
  },
  "language_info": {
   "codemirror_mode": {
    "name": "ipython",
    "version": 3
   },
   "file_extension": ".py",
   "mimetype": "text/x-python",
   "name": "python",
   "nbconvert_exporter": "python",
   "pygments_lexer": "ipython3",
   "version": "3.7.3"
  }
 },
 "nbformat": 4,
 "nbformat_minor": 4
}
